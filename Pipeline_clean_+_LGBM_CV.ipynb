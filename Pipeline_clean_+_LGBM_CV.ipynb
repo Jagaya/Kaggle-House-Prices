{
  "nbformat": 4,
  "nbformat_minor": 0,
  "metadata": {
    "colab": {
      "name": "Pipeline_clean + LGBM_CV.ipynb",
      "provenance": [],
      "collapsed_sections": [
        "naRilbvn5ExI",
        "11g0BdSPZSqs"
      ],
      "mount_file_id": "1uslXtNUbSuXsrhybnwXE8BThECOn8_gh",
      "authorship_tag": "ABX9TyMwocC9yb93RDQ2X9dbX0Os",
      "include_colab_link": true
    },
    "kernelspec": {
      "name": "python3",
      "display_name": "Python 3"
    },
    "language_info": {
      "name": "python"
    }
  },
  "cells": [
    {
      "cell_type": "markdown",
      "metadata": {
        "id": "view-in-github",
        "colab_type": "text"
      },
      "source": [
        "<a href=\"https://colab.research.google.com/github/Jagaya/Kaggle-House-Prices/blob/main/Pipeline_clean_%2B_LGBM_CV.ipynb\" target=\"_parent\"><img src=\"https://colab.research.google.com/assets/colab-badge.svg\" alt=\"Open In Colab\"/></a>"
      ]
    },
    {
      "cell_type": "markdown",
      "metadata": {
        "id": "r3q2TZNycHHW"
      },
      "source": [
        "# Imports, Data-reading, target-plotting"
      ]
    },
    {
      "cell_type": "code",
      "metadata": {
        "id": "MY8Sc61iYh4Y"
      },
      "source": [
        "import numpy as np\n",
        "import pandas as pd\n",
        "import matplotlib.pyplot as plt\n",
        "import seaborn as sns\n",
        "sns.set()\n",
        "plt.style.use(\"seaborn-whitegrid\")\n",
        "\n",
        "from scipy.stats import norm\n",
        "\n",
        "#preprocessing tools\n",
        "from sklearn.feature_selection import mutual_info_regression\n",
        "from sklearn.decomposition import PCA\n",
        "\n",
        "from sklearn.preprocessing import (OrdinalEncoder, StandardScaler,\n",
        "                                  MinMaxScaler, PolynomialFeatures,\n",
        "                                  PowerTransformer, Binarizer, LabelBinarizer,\n",
        "                                  OneHotEncoder)\n",
        "from sklearn.impute import SimpleImputer\n",
        "from sklearn.cluster import KMeans\n",
        "from sklearn.base import BaseEstimator, TransformerMixin\n",
        "\n",
        "#pipelines\n",
        "from sklearn.pipeline import Pipeline, FeatureUnion\n",
        "from sklearn.compose import ColumnTransformer, make_column_selector\n",
        "\n",
        "from sklearn_pandas import DataFrameMapper\n",
        "\n",
        "#models\n",
        "from sklearn.model_selection import cross_val_score, KFold, train_test_split\n",
        "from lightgbm import LGBMRegressor\n",
        "from xgboost import XGBRegressor\n",
        "from sklearn.ensemble import RandomForestRegressor\n",
        "\n",
        "#metrics\n",
        "from sklearn.metrics import mean_squared_error"
      ],
      "execution_count": 1,
      "outputs": []
    },
    {
      "cell_type": "code",
      "metadata": {
        "id": "JHdHl8Fw2PHF"
      },
      "source": [
        "%matplotlib inline\n",
        "# from bayes_opt import BayesianOptimization\n",
        "# from skopt import BayesSearchCV\n",
        "\n",
        "import warnings\n",
        "warnings.filterwarnings('ignore')"
      ],
      "execution_count": 2,
      "outputs": []
    },
    {
      "cell_type": "code",
      "metadata": {
        "id": "3CUYJhDEhc4V"
      },
      "source": [
        "df = pd.read_csv(\"/content/drive/MyDrive/Colab Notebooks/Kaggle/House Prices/data/train.csv\", index_col=0)\n",
        "df_test = pd.read_csv(\"/content/drive/MyDrive/Colab Notebooks/Kaggle/House Prices/data/test.csv\", index_col=0)"
      ],
      "execution_count": 3,
      "outputs": []
    },
    {
      "cell_type": "code",
      "metadata": {
        "colab": {
          "base_uri": "https://localhost:8080/"
        },
        "id": "Bt4_G1_TOdp0",
        "outputId": "03950c19-7a81-4091-b551-8098164452a6"
      },
      "source": [
        "df.shape"
      ],
      "execution_count": null,
      "outputs": [
        {
          "output_type": "execute_result",
          "data": {
            "text/plain": [
              "(1460, 80)"
            ]
          },
          "metadata": {},
          "execution_count": 4
        }
      ]
    },
    {
      "cell_type": "code",
      "metadata": {
        "id": "aVRLGo6Qg02Z"
      },
      "source": [
        "def pred_chart(prediction, target, alpha=0.1):\n",
        "  print(\"RMSE=\", round(mean_squared_error(prediction, target, squared=False), 3))\n",
        "  plt.figure(figsize=(7,7))\n",
        "  plt.scatter(target, prediction, alpha=alpha, color=\"blue\")\n",
        "  _min = min(target)\n",
        "  _max = max(target)\n",
        "  plt.plot((_min, _max), (_min, _max), color=\"red\")\n",
        "  plt.xlabel(\"target\")\n",
        "  plt.ylabel(\"prediction\")\n",
        "  plt.show()"
      ],
      "execution_count": 4,
      "outputs": []
    },
    {
      "cell_type": "code",
      "metadata": {
        "id": "AkpIC0-3hbbH"
      },
      "source": [
        "num_cols = df.select_dtypes(exclude=\"object\").columns[:-1]\n",
        "obj_cols = df.select_dtypes(\"object\").columns\n",
        "target = df.columns[-1]\n",
        "# print(num_cols)\n",
        "# print(obj_cols)"
      ],
      "execution_count": 5,
      "outputs": []
    },
    {
      "cell_type": "code",
      "metadata": {
        "colab": {
          "base_uri": "https://localhost:8080/",
          "height": 402
        },
        "id": "D_TgSxv8Nk_Q",
        "outputId": "cc915f21-297d-46c8-c50a-681b193624d7"
      },
      "source": [
        "(mu, sigma) = norm.fit(df[target])\n",
        "plt.figure(figsize = (12,6))\n",
        "sns.distplot(df[target], kde=True, hist=True, fit=norm)\n",
        "plt.title('Target Distribution', fontsize=12)\n",
        "plt.legend([f\"mean:{mu}, std:{sigma}\"],loc=\"best\")\n",
        "plt.show()"
      ],
      "execution_count": null,
      "outputs": [
        {
          "output_type": "display_data",
          "data": {
            "image/png": "[encoded data removed]",
            "text/plain": [
              "<Figure size 864x432 with 1 Axes>"
            ]
          },
          "metadata": {
            "needs_background": "light"
          }
        }
      ]
    },
    {
      "cell_type": "code",
      "metadata": {
        "id": "t_NuetguOI-y"
      },
      "source": [
        "df[target].describe()"
      ],
      "execution_count": null,
      "outputs": []
    },
    {
      "cell_type": "markdown",
      "metadata": {
        "id": "naRilbvn5ExI"
      },
      "source": [
        "# Cleaning Null-Values in Numerical Columns"
      ]
    },
    {
      "cell_type": "code",
      "metadata": {
        "id": "FSna7hNczuTw",
        "colab": {
          "base_uri": "https://localhost:8080/"
        },
        "outputId": "67dd27d2-3652-4ea3-d62d-f4d17498d88c"
      },
      "source": [
        "df[num_cols].isnull().sum()[df[num_cols].isnull().sum()>0]/df.shape[0]*100"
      ],
      "execution_count": null,
      "outputs": [
        {
          "output_type": "execute_result",
          "data": {
            "text/plain": [
              "LotFrontage    17.739726\n",
              "MasVnrArea      0.547945\n",
              "GarageYrBlt     5.547945\n",
              "dtype: float64"
            ]
          },
          "metadata": {},
          "execution_count": 8
        }
      ]
    },
    {
      "cell_type": "code",
      "metadata": {
        "id": "584RASM6cZXB",
        "colab": {
          "base_uri": "https://localhost:8080/"
        },
        "outputId": "2a408b52-ec20-4578-fd8d-44dc416e1348"
      },
      "source": [
        "# Impute missing Area with 0 and missing Type with \"None\"\n",
        "print(df.MasVnrArea.isnull().sum() == df.MasVnrType.isnull().sum())\n",
        "print(df[(df.MasVnrArea==0) & (df.MasVnrType==\"None\")].shape[0] == df[(df.MasVnrArea==0) | (df.MasVnrType==\"None\")].shape[0])"
      ],
      "execution_count": null,
      "outputs": [
        {
          "output_type": "stream",
          "name": "stdout",
          "text": [
            "True\n",
            "False\n"
          ]
        }
      ]
    },
    {
      "cell_type": "code",
      "metadata": {
        "id": "PX1_TlOWdcnu",
        "colab": {
          "base_uri": "https://localhost:8080/",
          "height": 364
        },
        "outputId": "31933acb-9f5f-4747-feb7-a798fe84fa99"
      },
      "source": [
        "df[[\"MasVnrArea\", \"MasVnrType\"]][(df.MasVnrArea!=0) & (df.MasVnrType==\"None\") | (df.MasVnrArea==0) & (df.MasVnrType!=\"None\")]"
      ],
      "execution_count": null,
      "outputs": [
        {
          "output_type": "execute_result",
          "data": {
            "text/html": [
              "\n",
              "  <div id=\"df-6e2253ff-3c19-4ffc-8d49-5c8a7fabb1d6\">\n",
              "    <div class=\"colab-df-container\">\n",
              "      <div>\n",
              "<style scoped>\n",
              "    .dataframe tbody tr th:only-of-type {\n",
              "        vertical-align: middle;\n",
              "    }\n",
              "\n",
              "    .dataframe tbody tr th {\n",
              "        vertical-align: top;\n",
              "    }\n",
              "\n",
              "    .dataframe thead th {\n",
              "        text-align: right;\n",
              "    }\n",
              "</style>\n",
              "<table border=\"1\" class=\"dataframe\">\n",
              "  <thead>\n",
              "    <tr style=\"text-align: right;\">\n",
              "      <th></th>\n",
              "      <th>MasVnrArea</th>\n",
              "      <th>MasVnrType</th>\n",
              "    </tr>\n",
              "    <tr>\n",
              "      <th>Id</th>\n",
              "      <th></th>\n",
              "      <th></th>\n",
              "    </tr>\n",
              "  </thead>\n",
              "  <tbody>\n",
              "    <tr>\n",
              "      <th>625</th>\n",
              "      <td>288.0</td>\n",
              "      <td>None</td>\n",
              "    </tr>\n",
              "    <tr>\n",
              "      <th>689</th>\n",
              "      <td>0.0</td>\n",
              "      <td>BrkFace</td>\n",
              "    </tr>\n",
              "    <tr>\n",
              "      <th>774</th>\n",
              "      <td>1.0</td>\n",
              "      <td>None</td>\n",
              "    </tr>\n",
              "    <tr>\n",
              "      <th>1231</th>\n",
              "      <td>1.0</td>\n",
              "      <td>None</td>\n",
              "    </tr>\n",
              "    <tr>\n",
              "      <th>1242</th>\n",
              "      <td>0.0</td>\n",
              "      <td>Stone</td>\n",
              "    </tr>\n",
              "    <tr>\n",
              "      <th>1301</th>\n",
              "      <td>344.0</td>\n",
              "      <td>None</td>\n",
              "    </tr>\n",
              "    <tr>\n",
              "      <th>1335</th>\n",
              "      <td>312.0</td>\n",
              "      <td>None</td>\n",
              "    </tr>\n",
              "  </tbody>\n",
              "</table>\n",
              "</div>\n",
              "      <button class=\"colab-df-convert\" onclick=\"convertToInteractive('df-6e2253ff-3c19-4ffc-8d49-5c8a7fabb1d6')\"\n",
              "              title=\"Convert this dataframe to an interactive table.\"\n",
              "              style=\"display:none;\">\n",
              "        \n",
              "  <svg xmlns=\"http://www.w3.org/2000/svg\" height=\"24px\"viewBox=\"0 0 24 24\"\n",
              "       width=\"24px\">\n",
              "    <path d=\"M0 0h24v24H0V0z\" fill=\"none\"/>\n",
              "    <path d=\"M18.56 5.44l.94 2.06.94-2.06 2.06-.94-2.06-.94-.94-2.06-.94 2.06-2.06.94zm-11 1L8.5 8.5l.94-2.06 2.06-.94-2.06-.94L8.5 2.5l-.94 2.06-2.06.94zm10 10l.94 2.06.94-2.06 2.06-.94-2.06-.94-.94-2.06-.94 2.06-2.06.94z\"/><path d=\"M17.41 7.96l-1.37-1.37c-.4-.4-.92-.59-1.43-.59-.52 0-1.04.2-1.43.59L10.3 9.45l-7.72 7.72c-.78.78-.78 2.05 0 2.83L4 21.41c.39.39.9.59 1.41.59.51 0 1.02-.2 1.41-.59l7.78-7.78 2.81-2.81c.8-.78.8-2.07 0-2.86zM5.41 20L4 18.59l7.72-7.72 1.47 1.35L5.41 20z\"/>\n",
              "  </svg>\n",
              "      </button>\n",
              "      \n",
              "  <style>\n",
              "    .colab-df-container {\n",
              "      display:flex;\n",
              "      flex-wrap:wrap;\n",
              "      gap: 12px;\n",
              "    }\n",
              "\n",
              "    .colab-df-convert {\n",
              "      background-color: #E8F0FE;\n",
              "      border: none;\n",
              "      border-radius: 50%;\n",
              "      cursor: pointer;\n",
              "      display: none;\n",
              "      fill: #1967D2;\n",
              "      height: 32px;\n",
              "      padding: 0 0 0 0;\n",
              "      width: 32px;\n",
              "    }\n",
              "\n",
              "    .colab-df-convert:hover {\n",
              "      background-color: #E2EBFA;\n",
              "      box-shadow: 0px 1px 2px rgba(60, 64, 67, 0.3), 0px 1px 3px 1px rgba(60, 64, 67, 0.15);\n",
              "      fill: #174EA6;\n",
              "    }\n",
              "\n",
              "    [theme=dark] .colab-df-convert {\n",
              "      background-color: #3B4455;\n",
              "      fill: #D2E3FC;\n",
              "    }\n",
              "\n",
              "    [theme=dark] .colab-df-convert:hover {\n",
              "      background-color: #434B5C;\n",
              "      box-shadow: 0px 1px 3px 1px rgba(0, 0, 0, 0.15);\n",
              "      filter: drop-shadow(0px 1px 2px rgba(0, 0, 0, 0.3));\n",
              "      fill: #FFFFFF;\n",
              "    }\n",
              "  </style>\n",
              "\n",
              "      <script>\n",
              "        const buttonEl =\n",
              "          document.querySelector('#df-6e2253ff-3c19-4ffc-8d49-5c8a7fabb1d6 button.colab-df-convert');\n",
              "        buttonEl.style.display =\n",
              "          google.colab.kernel.accessAllowed ? 'block' : 'none';\n",
              "\n",
              "        async function convertToInteractive(key) {\n",
              "          const element = document.querySelector('#df-6e2253ff-3c19-4ffc-8d49-5c8a7fabb1d6');\n",
              "          const dataTable =\n",
              "            await google.colab.kernel.invokeFunction('convertToInteractive',\n",
              "                                                     [key], {});\n",
              "          if (!dataTable) return;\n",
              "\n",
              "          const docLinkHtml = 'Like what you see? Visit the ' +\n",
              "            '<a target=\"_blank\" href=https://colab.research.google.com/notebooks/data_table.ipynb>data table notebook</a>'\n",
              "            + ' to learn more about interactive tables.';\n",
              "          element.innerHTML = '';\n",
              "          dataTable['output_type'] = 'display_data';\n",
              "          await google.colab.output.renderOutput(dataTable, element);\n",
              "          const docLink = document.createElement('div');\n",
              "          docLink.innerHTML = docLinkHtml;\n",
              "          element.appendChild(docLink);\n",
              "        }\n",
              "      </script>\n",
              "    </div>\n",
              "  </div>\n",
              "  "
            ],
            "text/plain": [
              "      MasVnrArea MasVnrType\n",
              "Id                         \n",
              "625        288.0       None\n",
              "689          0.0    BrkFace\n",
              "774          1.0       None\n",
              "1231         1.0       None\n",
              "1242         0.0      Stone\n",
              "1301       344.0       None\n",
              "1335       312.0       None"
            ]
          },
          "metadata": {},
          "execution_count": 10
        }
      ]
    },
    {
      "cell_type": "code",
      "metadata": {
        "id": "HTA3MP8KzPqO",
        "colab": {
          "base_uri": "https://localhost:8080/",
          "height": 73
        },
        "outputId": "d2e5acd5-4a4d-4bfb-cd87-c0cb9b93d7d1"
      },
      "source": [
        "plt.scatter(df.GarageYrBlt, df[target])"
      ],
      "execution_count": null,
      "outputs": [
        {
          "output_type": "execute_result",
          "data": {
            "text/plain": [
              "<matplotlib.collections.PathCollection at 0x7f20d61c3250>"
            ]
          },
          "metadata": {},
          "execution_count": 11
        },
        {
          "output_type": "display_data",
          "data": {
            "image/png": "[encoded data removed]",
            "text/plain": [
              "<Figure size 432x288 with 1 Axes>"
            ]
          },
          "metadata": {
            "needs_background": "light"
          }
        }
      ]
    },
    {
      "cell_type": "code",
      "metadata": {
        "id": "ZSzwEx8PeJoY",
        "colab": {
          "base_uri": "https://localhost:8080/"
        },
        "outputId": "20d5a9a4-7b40-4bd2-a8b6-7f3bc28c9bc8"
      },
      "source": [
        "df[df.GarageYrBlt.isnull()][[col for col in df.columns if \"Garage\" in col]].sum()"
      ],
      "execution_count": null,
      "outputs": [
        {
          "output_type": "execute_result",
          "data": {
            "text/plain": [
              "GarageType      0.0\n",
              "GarageYrBlt     0.0\n",
              "GarageFinish    0.0\n",
              "GarageCars      0.0\n",
              "GarageArea      0.0\n",
              "GarageQual      0.0\n",
              "GarageCond      0.0\n",
              "dtype: float64"
            ]
          },
          "metadata": {},
          "execution_count": 12
        }
      ]
    },
    {
      "cell_type": "markdown",
      "metadata": {
        "id": "ODUkiSEVe_TT"
      },
      "source": [
        "Missing Values in GarageYrBlt correlate with no values in the other columns, indicating a lack of any Garage.\n",
        "\n",
        "For now let's impute the mean for the Pipeline.\n",
        "Ideally we'd also create a new column keeping track that the Garage is indeed missing - but I don't know how to do this in a pipeline so that's a question for later."
      ]
    },
    {
      "cell_type": "markdown",
      "metadata": {
        "id": "11g0BdSPZSqs"
      },
      "source": [
        "# Custom Feature Union for DateFrameMapper\n",
        "plus Custom Transformer to add columns\n",
        "\n"
      ]
    },
    {
      "cell_type": "code",
      "metadata": {
        "id": "9GYwgz2RacJ0"
      },
      "source": [
        "class DFM_FeatureUnion():\n",
        "  def __init__(self, transformer_list):\n",
        "    self.transformer_list = transformer_list\n",
        "\n",
        "  def fit(self, X, y=None):\n",
        "    for (_, transformer, _) in self.transformer_list:\n",
        "      transformer.fit(X,y)\n",
        "    return self\n",
        "\n",
        "  def transform(self, X):\n",
        "    trans = []\n",
        "    for (_, transformer, _) in self.transformer_list:\n",
        "      trans.append(transformer.transform(X))\n",
        "    return pd.concat(trans, axis=1)\n",
        "  \n",
        "  def fit_transform(self, X, y=None):\n",
        "    self.fit(X, y)\n",
        "    return self.transform(X)\n",
        "\n",
        "class CustomColAdd(BaseEstimator, TransformerMixin):\n",
        "  def __init__(self, target, categories):\n",
        "    self.categories = categories\n",
        "    self.target = target\n",
        "\n",
        "  def fit(self, X, y=None):\n",
        "    return self\n",
        "\n",
        "  def transform(self, X):\n",
        "    return pd.DataFrame( X[self.categories].sum(axis=1), columns=[self.target])\n",
        "\n",
        "  def fit_transform(self, X, y=None):\n",
        "    #placeholder\n",
        "    self.fit(X, y)\n",
        "    return self.transform(X)"
      ],
      "execution_count": 6,
      "outputs": []
    },
    {
      "cell_type": "code",
      "source": [
        "#df[['TotalBsmtSF', '1stFlrSF', '2ndFlrSF']].sum(axis=0)\n",
        "# adder = CustomColAdd(\"area\", ['TotalBsmtSF', '1stFlrSF', '2ndFlrSF'])\n",
        "# adder.fit_transform(df).head()"
      ],
      "metadata": {
        "id": "IN22rJzDOaWG"
      },
      "execution_count": 7,
      "outputs": []
    },
    {
      "cell_type": "markdown",
      "metadata": {
        "id": "-RwtmcFdZXN7"
      },
      "source": [
        "# buildFeaturesPipeline with native DFM"
      ]
    },
    {
      "cell_type": "code",
      "source": [
        "print(num_cols)"
      ],
      "metadata": {
        "colab": {
          "base_uri": "https://localhost:8080/"
        },
        "id": "HGNnhIvUJvdO",
        "outputId": "825a3784-d2c4-4468-985f-3548da6d6def"
      },
      "execution_count": null,
      "outputs": [
        {
          "output_type": "stream",
          "name": "stdout",
          "text": [
            "Index(['MSSubClass', 'LotFrontage', 'LotArea', 'OverallQual', 'OverallCond',\n",
            "       'YearBuilt', 'YearRemodAdd', 'MasVnrArea', 'BsmtFinSF1', 'BsmtFinSF2',\n",
            "       'BsmtUnfSF', 'TotalBsmtSF', '1stFlrSF', '2ndFlrSF', 'LowQualFinSF',\n",
            "       'GrLivArea', 'BsmtFullBath', 'BsmtHalfBath', 'FullBath', 'HalfBath',\n",
            "       'BedroomAbvGr', 'KitchenAbvGr', 'TotRmsAbvGrd', 'Fireplaces',\n",
            "       'GarageYrBlt', 'GarageCars', 'GarageArea', 'WoodDeckSF', 'OpenPorchSF',\n",
            "       'EnclosedPorch', '3SsnPorch', 'ScreenPorch', 'PoolArea', 'MiscVal',\n",
            "       'MoSold', 'YrSold'],\n",
            "      dtype='object')\n"
          ]
        }
      ]
    },
    {
      "cell_type": "code",
      "metadata": {
        "id": "3Us69JM1JCvK",
        "colab": {
          "base_uri": "https://localhost:8080/"
        },
        "outputId": "0c06f41a-acf7-4728-f876-bc7a6b44c5fe"
      },
      "source": [
        "def buildFeaturesPipeline(num_clusters = 4, num_PCAfeatures = 4, num_Poly = 2):\n",
        "    # sepearte obj_cols according to the fill-value\n",
        "    fill_none = ['MasVnrType','GarageType', 'GarageQual', 'GarageFinish',\n",
        "                'GarageCond', 'FireplaceQu', 'BsmtQual','BsmtCond','BsmtExposure',\n",
        "                'BsmtFinType1', 'BsmtFinType2']\n",
        "\n",
        "    drop_obj = [\"Alley\",\"PoolQC\",\"Fence\",\"MiscFeature\"]\n",
        "\n",
        "    fill_frequent = [col for col in obj_cols if col not in set(fill_none + drop_obj)]\n",
        "\n",
        "\n",
        "    obj_filler = DataFrameMapper(\n",
        "        [([col], SimpleImputer(strategy=\"constant\", fill_value=\"None\"))\n",
        "          for col in fill_none]\n",
        "          +\n",
        "        [([col], SimpleImputer(strategy=\"most_frequent\"))\n",
        "          for col in fill_frequent]\n",
        "        ,df_out=True\n",
        "    )\n",
        "\n",
        "\n",
        "    # Features to encode\n",
        "    obj_ord = ['GarageQual','GarageCond','FireplaceQu','BsmtQual','BsmtCond',\n",
        "               \"BsmtExposure\",\n",
        "               \"GarageFinish\",\n",
        "               'BsmtFinType1', 'BsmtFinType2']\n",
        "\n",
        "    obj_oh = [\"MasVnrType\", \"GarageType\"]\n",
        "\n",
        "    obj_ord_DFM = DataFrameMapper(\n",
        "          [\n",
        "           # Generate a list Comprehension for several encoders\n",
        "           # DFM suffix/prefix attribut doesn't work\n",
        "           ([col], OrdinalEncoder(categories=[[\"Ex\", \"Gd\", \"TA\", \"Fa\", \"Po\", \"None\"]], dtype=np.int64), {'alias':'ord_'+col})\n",
        "              for col in ['GarageQual','GarageCond','FireplaceQu','BsmtQual','BsmtCond']\n",
        "            ]\n",
        "          +\n",
        "          [\n",
        "           ([\"BsmtExposure\"], OrdinalEncoder(categories=[[\"Gd\",\"Av\",\"Mn\",\"No\",\"None\"]], dtype=np.int64), {\"alias\":\"ord_BsmtExposure\"} )\n",
        "           ,\n",
        "          ([\"GarageFinish\"], OrdinalEncoder(categories=[['Fin', 'RFn', 'Unf', 'None']], dtype=np.int64), {'alias':'ord_GarageFinish'} )\n",
        "          ]\n",
        "          ,df_out=True\n",
        "    )\n",
        "    \n",
        "    # use LabelBinarizer as OneHotEncoder seems runs problems within DFM\n",
        "    # also LB does actually provide meaningful column-names, which the SKlearn OHE does not\n",
        "    obj_oh_DFM = DataFrameMapper(\n",
        "        [\n",
        "         ([\"MasVnrType\"], LabelBinarizer()), # 4 Values\n",
        "         ([\"GarageType\"], LabelBinarizer())  # 6 Values\n",
        "        ]\n",
        "        ,df_out=True\n",
        "    )\n",
        "\n",
        "    obj_encode_union = DFM_FeatureUnion(\n",
        "        transformer_list=[\n",
        "         (\"ord\", obj_ord_DFM, obj_ord),                 \n",
        "         (\"OH\", obj_oh_DFM, obj_oh)\n",
        "        ]\n",
        "    )\n",
        "\n",
        "    categorical_starter = Pipeline(\n",
        "        [\n",
        "         (\"fill\", obj_filler),\n",
        "         (\"encode\", obj_encode_union)\n",
        "        ]\n",
        "    )\n",
        "\n",
        "    # add categorical features (not implemented)\n",
        "    categorical_features = DFM_FeatureUnion(\n",
        "        transformer_list = [\n",
        "                            ('original_features',categorical_starter)\n",
        "                            ])\n",
        "\n",
        "    #--------------------------------------- starting point for numerics workflow -------------------------------------------------------#\n",
        "    num_cols = ['MSSubClass', 'LotFrontage', 'LotArea', 'OverallQual', 'OverallCond',\n",
        "       'YearBuilt', 'YearRemodAdd', 'MasVnrArea', 'BsmtFinSF1', 'BsmtFinSF2',\n",
        "       'BsmtUnfSF', 'TotalBsmtSF', '1stFlrSF', '2ndFlrSF', 'LowQualFinSF',\n",
        "       'GrLivArea', 'BsmtFullBath', 'BsmtHalfBath', 'FullBath', 'HalfBath',\n",
        "       'BedroomAbvGr', 'KitchenAbvGr', 'TotRmsAbvGrd', 'Fireplaces',\n",
        "       'GarageYrBlt', 'GarageCars', 'GarageArea', 'WoodDeckSF', 'OpenPorchSF',\n",
        "       'EnclosedPorch', '3SsnPorch', 'ScreenPorch', 'PoolArea', 'MiscVal',\n",
        "       'MoSold', 'YrSold']\n",
        "\n",
        "    # Columns to drop because of low info\n",
        "    num_drop = [\"MoSold\", \"YrSold\", \"PoolArea\", \"EnclosedPorch\", \"3SnPorch\"] #\n",
        "\n",
        "    # Creating a dict of new features as tuples with new header - Adding columns\n",
        "    num_new_dict = {\n",
        "        \"TotalSF\": ['TotalBsmtSF', '1stFlrSF', '2ndFlrSF'],\n",
        "        \"TotalBaths\": ['BsmtFullBath', 'BsmtHalfBath', 'FullBath', 'HalfBath']\n",
        "    }\n",
        "    num_new_cols = list(num_new_dict.keys())\n",
        "    num_new_cols_drop = list(set(col for key, value in num_new_dict.items() for col in value))\n",
        "\n",
        "    #select the columns and apply filler + scaler\n",
        "    fill_0 = [\"MasVnrArea\"]\n",
        "    \n",
        "    fill_mean = [col for col in num_cols if col not in set(fill_0 + num_drop)]\n",
        "\n",
        "    num_cols_fill = fill_0+fill_mean\n",
        "\n",
        "    num_cols_drop = set(num_new_cols_drop + num_drop)\n",
        "    # print(num_cols_drop)\n",
        "    num_cols_nondrop = [col for col in num_cols if col not in num_cols_drop]\n",
        "    num_cols_final = num_cols_nondrop + num_new_cols\n",
        "    #print(num_cols_final)\n",
        "\n",
        "    numeric_impute_DFM = DataFrameMapper(\n",
        "      [(fill_0, SimpleImputer(strategy=\"constant\", fill_value=0))]\n",
        "      +\n",
        "      [([col], SimpleImputer(strategy=\"mean\")) for col in fill_mean]\n",
        "      ,df_out=True\n",
        "    )\n",
        "\n",
        "    numeric_norm_DFM = DataFrameMapper(\n",
        "        [([col], StandardScaler(), {\"alias\":\"norm_\"+col})\n",
        "        for col in num_cols_final\n",
        "        ],\n",
        "        df_out=True)\n",
        "    \n",
        "    # add numerical features (not implemented)\n",
        "    numeric_new_features = DFM_FeatureUnion(\n",
        "        [\n",
        "         (key, CustomColAdd(key, value), value)\n",
        "         for key, value in num_new_dict.items()\n",
        "        ]\n",
        "    )\n",
        "\n",
        "    numeric_features = DFM_FeatureUnion(\n",
        "        transformer_list = [\n",
        "                            ('original_features', numeric_impute_DFM, num_cols_nondrop),\n",
        "                            ('feature_engeneer', numeric_new_features, num_new_cols)\n",
        "                            ])\n",
        "\n",
        "    numeric_prep_DFM = Pipeline(\n",
        "        [\n",
        "         #(\"all_features\", numeric_impute_DFM),\n",
        "         (\"all_features\", numeric_features),\n",
        "         (\"scale\", numeric_norm_DFM)\n",
        "        ]\n",
        "    )\n",
        "   \n",
        "    \n",
        "    # union the categorical and numerical pipelines\n",
        "    features_merged = DFM_FeatureUnion(\n",
        "        transformer_list = [\n",
        "                            ('categorical_pipeline', categorical_starter, obj_cols),\n",
        "                            #('categorical_pipeline', categorical_features, obj_cols),\n",
        "                            #('numerical_pipeline', numeric_prep_DFM, num_cols+[\"TotalSF\"])\n",
        "                            ('numerical_pipeline', numeric_prep_DFM, num_cols_final)\n",
        "                            ])\n",
        "    \n",
        "    # Final Pipeline to return\n",
        "    features_pipeline = Pipeline(\n",
        "        steps=[\n",
        "               ('features', features_merged)\n",
        "               ])\n",
        "    \n",
        "    return features_pipeline\n",
        "\n",
        "feature_pipeline = buildFeaturesPipeline()\n",
        "columns = feature_pipeline.fit_transform(df.iloc[:50,:]).columns\n",
        "print(len(columns))\n",
        "columns"
      ],
      "execution_count": 43,
      "outputs": [
        {
          "output_type": "stream",
          "name": "stdout",
          "text": [
            "42\n"
          ]
        },
        {
          "output_type": "execute_result",
          "data": {
            "text/plain": [
              "Index(['ord_GarageQual', 'ord_GarageCond', 'ord_FireplaceQu', 'ord_BsmtQual',\n",
              "       'ord_BsmtCond', 'ord_BsmtExposure', 'ord_GarageFinish',\n",
              "       'MasVnrType_BrkFace', 'MasVnrType_None', 'MasVnrType_Stone',\n",
              "       'GarageType_Attchd', 'GarageType_BuiltIn', 'GarageType_CarPort',\n",
              "       'GarageType_Detchd', 'GarageType_None', 'norm_MSSubClass',\n",
              "       'norm_LotFrontage', 'norm_LotArea', 'norm_OverallQual',\n",
              "       'norm_OverallCond', 'norm_YearBuilt', 'norm_YearRemodAdd',\n",
              "       'norm_MasVnrArea', 'norm_BsmtFinSF1', 'norm_BsmtFinSF2',\n",
              "       'norm_BsmtUnfSF', 'norm_LowQualFinSF', 'norm_GrLivArea',\n",
              "       'norm_BedroomAbvGr', 'norm_KitchenAbvGr', 'norm_TotRmsAbvGrd',\n",
              "       'norm_Fireplaces', 'norm_GarageYrBlt', 'norm_GarageCars',\n",
              "       'norm_GarageArea', 'norm_WoodDeckSF', 'norm_OpenPorchSF',\n",
              "       'norm_3SsnPorch', 'norm_ScreenPorch', 'norm_MiscVal', 'norm_TotalSF',\n",
              "       'norm_TotalBaths'],\n",
              "      dtype='object')"
            ]
          },
          "metadata": {},
          "execution_count": 43
        }
      ]
    },
    {
      "cell_type": "markdown",
      "metadata": {
        "id": "DmZC2SBkjL_D"
      },
      "source": [
        "# Mutual Information"
      ]
    },
    {
      "cell_type": "code",
      "metadata": {
        "colab": {
          "base_uri": "https://localhost:8080/"
        },
        "id": "aC350r-LjR6y",
        "outputId": "f6ccb8da-b825-4886-d3a5-235606e6d3f9"
      },
      "source": [
        "feature_pipeline = buildFeaturesPipeline()\n",
        "X = feature_pipeline.fit_transform(df)\n",
        "y = df.SalePrice.copy()\n",
        "\n",
        "# Label encoding for categoricals\n",
        "for colname in X.select_dtypes(\"object\"):\n",
        "    X[colname], _ = X[colname].factorize()\n",
        "\n",
        "# All discrete features should now have integer dtypes (double-check this before using MI!)\n",
        "discrete_features = X.dtypes == int\n",
        "\n",
        "def make_mi_scores(X, y, discrete_features):\n",
        "    mi_scores = mutual_info_regression(X, y, discrete_features=discrete_features)\n",
        "    mi_scores = pd.Series(mi_scores, name=\"MI Scores\", index=X.columns)\n",
        "    mi_scores = mi_scores.sort_values(ascending=False)\n",
        "    return mi_scores\n",
        "\n",
        "mi_scores = make_mi_scores(X, y, discrete_features)\n",
        "mi_scores[::3]  # show a few features with their MI scores"
      ],
      "execution_count": null,
      "outputs": [
        {
          "output_type": "execute_result",
          "data": {
            "text/plain": [
              "norm_OverallQual      0.568143\n",
              "norm_YearBuilt        0.366940\n",
              "ord_BsmtQual          0.334299\n",
              "norm_MSSubClass       0.275406\n",
              "norm_YearRemodAdd     0.247841\n",
              "norm_2ndFlrSF         0.201925\n",
              "norm_LotArea          0.157982\n",
              "GarageType_Attchd     0.119541\n",
              "norm_WoodDeckSF       0.108391\n",
              "norm_HalfBath         0.083580\n",
              "ord_GarageCond        0.077127\n",
              "GarageType_None       0.054483\n",
              "MasVnrType_BrkFace    0.030308\n",
              "norm_KitchenAbvGr     0.017839\n",
              "norm_BsmtFullBath     0.015506\n",
              "norm_LowQualFinSF     0.010554\n",
              "norm_YrSold           0.002004\n",
              "norm_PoolArea         0.000000\n",
              "Name: MI Scores, dtype: float64"
            ]
          },
          "metadata": {},
          "execution_count": 10
        }
      ]
    },
    {
      "cell_type": "code",
      "metadata": {
        "colab": {
          "base_uri": "https://localhost:8080/",
          "height": 1000
        },
        "id": "0LSv62Bskl8-",
        "outputId": "ec237407-84c4-45fb-a3ee-f004631df005"
      },
      "source": [
        "def plot_mi_scores(scores):\n",
        "    scores = scores.sort_values(ascending=True)\n",
        "    width = np.arange(len(scores))\n",
        "    ticks = list(scores.index)\n",
        "    plt.barh(width, scores)\n",
        "    plt.yticks(width, ticks)\n",
        "    plt.title(\"Mutual Information Scores\")\n",
        "\n",
        "\n",
        "plt.figure(dpi=100, figsize=(10, 15))\n",
        "plot_mi_scores(mi_scores)"
      ],
      "execution_count": null,
      "outputs": [
        {
          "output_type": "display_data",
          "data": {
            "image/png": "[encoded data removed]",
            "text/plain": [
              "<Figure size 1000x1500 with 1 Axes>"
            ]
          },
          "metadata": {
            "needs_background": "light"
          }
        }
      ]
    },
    {
      "cell_type": "code",
      "metadata": {
        "colab": {
          "base_uri": "https://localhost:8080/",
          "height": 369
        },
        "id": "PaFglUCTkwNd",
        "outputId": "4a385822-b7cf-4b6c-a6cc-c8dbb9a71611"
      },
      "source": [
        "sns.relplot(x=\"GrLivArea\", y=\"SalePrice\", data=df);"
      ],
      "execution_count": null,
      "outputs": [
        {
          "output_type": "display_data",
          "data": {
            "image/png": "[encoded data removed]",
            "text/plain": [
              "<Figure size 360x360 with 1 Axes>"
            ]
          },
          "metadata": {
            "needs_background": "light"
          }
        }
      ]
    },
    {
      "cell_type": "markdown",
      "metadata": {
        "id": "ErJPiwlgrQA3"
      },
      "source": [
        "# PCA"
      ]
    },
    {
      "cell_type": "code",
      "metadata": {
        "colab": {
          "base_uri": "https://localhost:8080/",
          "height": 313
        },
        "id": "ncoy7gATrS4e",
        "outputId": "96ca161d-21b9-4dde-f886-40192c2518f8"
      },
      "source": [
        "pca = PCA()\n",
        "X_pca = pca.fit_transform(X)\n",
        "\n",
        "# Convert to dataframe\n",
        "component_names = [f\"PC{i+1}\" for i in range(X_pca.shape[1])]\n",
        "X_pca = pd.DataFrame(X_pca, columns=component_names)\n",
        "\n",
        "X_pca.head()"
      ],
      "execution_count": null,
      "outputs": [
        {
          "output_type": "execute_result",
          "data": {
            "text/html": [
              "<div>\n",
              "<style scoped>\n",
              "    .dataframe tbody tr th:only-of-type {\n",
              "        vertical-align: middle;\n",
              "    }\n",
              "\n",
              "    .dataframe tbody tr th {\n",
              "        vertical-align: top;\n",
              "    }\n",
              "\n",
              "    .dataframe thead th {\n",
              "        text-align: right;\n",
              "    }\n",
              "</style>\n",
              "<table border=\"1\" class=\"dataframe\">\n",
              "  <thead>\n",
              "    <tr style=\"text-align: right;\">\n",
              "      <th></th>\n",
              "      <th>PC1</th>\n",
              "      <th>PC2</th>\n",
              "      <th>PC3</th>\n",
              "      <th>PC4</th>\n",
              "      <th>PC5</th>\n",
              "      <th>PC6</th>\n",
              "      <th>PC7</th>\n",
              "      <th>PC8</th>\n",
              "      <th>PC9</th>\n",
              "      <th>PC10</th>\n",
              "      <th>PC11</th>\n",
              "      <th>PC12</th>\n",
              "      <th>PC13</th>\n",
              "      <th>PC14</th>\n",
              "      <th>PC15</th>\n",
              "      <th>PC16</th>\n",
              "      <th>PC17</th>\n",
              "      <th>PC18</th>\n",
              "      <th>PC19</th>\n",
              "      <th>PC20</th>\n",
              "      <th>PC21</th>\n",
              "      <th>PC22</th>\n",
              "      <th>PC23</th>\n",
              "      <th>PC24</th>\n",
              "      <th>PC25</th>\n",
              "      <th>PC26</th>\n",
              "      <th>PC27</th>\n",
              "      <th>PC28</th>\n",
              "      <th>PC29</th>\n",
              "      <th>PC30</th>\n",
              "      <th>PC31</th>\n",
              "      <th>PC32</th>\n",
              "      <th>PC33</th>\n",
              "      <th>PC34</th>\n",
              "      <th>PC35</th>\n",
              "      <th>PC36</th>\n",
              "      <th>PC37</th>\n",
              "      <th>PC38</th>\n",
              "      <th>PC39</th>\n",
              "      <th>PC40</th>\n",
              "      <th>PC41</th>\n",
              "      <th>PC42</th>\n",
              "      <th>PC43</th>\n",
              "      <th>PC44</th>\n",
              "      <th>PC45</th>\n",
              "      <th>PC46</th>\n",
              "      <th>PC47</th>\n",
              "      <th>PC48</th>\n",
              "      <th>PC49</th>\n",
              "      <th>PC50</th>\n",
              "      <th>PC51</th>\n",
              "      <th>PC52</th>\n",
              "      <th>PC53</th>\n",
              "      <th>PC54</th>\n",
              "    </tr>\n",
              "  </thead>\n",
              "  <tbody>\n",
              "    <tr>\n",
              "      <th>0</th>\n",
              "      <td>0.598091</td>\n",
              "      <td>-0.657415</td>\n",
              "      <td>-2.997089</td>\n",
              "      <td>0.204604</td>\n",
              "      <td>2.066988</td>\n",
              "      <td>-0.601840</td>\n",
              "      <td>0.337937</td>\n",
              "      <td>-1.450821</td>\n",
              "      <td>0.332922</td>\n",
              "      <td>-0.888963</td>\n",
              "      <td>-0.318131</td>\n",
              "      <td>0.114028</td>\n",
              "      <td>-0.583185</td>\n",
              "      <td>0.221767</td>\n",
              "      <td>-0.041436</td>\n",
              "      <td>0.240364</td>\n",
              "      <td>-0.116153</td>\n",
              "      <td>-0.075696</td>\n",
              "      <td>-0.832947</td>\n",
              "      <td>-0.431389</td>\n",
              "      <td>-0.914030</td>\n",
              "      <td>0.188742</td>\n",
              "      <td>0.401716</td>\n",
              "      <td>0.491378</td>\n",
              "      <td>0.070705</td>\n",
              "      <td>-0.072882</td>\n",
              "      <td>-0.181377</td>\n",
              "      <td>-0.106229</td>\n",
              "      <td>0.222392</td>\n",
              "      <td>0.394279</td>\n",
              "      <td>-0.044469</td>\n",
              "      <td>-0.625127</td>\n",
              "      <td>0.102310</td>\n",
              "      <td>-0.017310</td>\n",
              "      <td>0.634558</td>\n",
              "      <td>-0.081439</td>\n",
              "      <td>-0.453857</td>\n",
              "      <td>-0.143395</td>\n",
              "      <td>0.122106</td>\n",
              "      <td>0.246149</td>\n",
              "      <td>-0.011344</td>\n",
              "      <td>-0.095648</td>\n",
              "      <td>0.172616</td>\n",
              "      <td>-0.054412</td>\n",
              "      <td>-0.000656</td>\n",
              "      <td>0.035097</td>\n",
              "      <td>-0.011267</td>\n",
              "      <td>-0.003608</td>\n",
              "      <td>-0.006092</td>\n",
              "      <td>0.015851</td>\n",
              "      <td>-2.353196e-15</td>\n",
              "      <td>1.292988e-14</td>\n",
              "      <td>4.315467e-15</td>\n",
              "      <td>-2.989094e-15</td>\n",
              "    </tr>\n",
              "    <tr>\n",
              "      <th>1</th>\n",
              "      <td>1.069087</td>\n",
              "      <td>-1.091076</td>\n",
              "      <td>2.143981</td>\n",
              "      <td>-0.086805</td>\n",
              "      <td>0.210568</td>\n",
              "      <td>-0.649437</td>\n",
              "      <td>-1.858122</td>\n",
              "      <td>2.525091</td>\n",
              "      <td>-2.885974</td>\n",
              "      <td>0.364450</td>\n",
              "      <td>-0.405451</td>\n",
              "      <td>-0.382177</td>\n",
              "      <td>-1.026078</td>\n",
              "      <td>0.962388</td>\n",
              "      <td>-0.574484</td>\n",
              "      <td>-1.197078</td>\n",
              "      <td>0.531889</td>\n",
              "      <td>0.744468</td>\n",
              "      <td>-1.369602</td>\n",
              "      <td>0.415921</td>\n",
              "      <td>-0.820430</td>\n",
              "      <td>-1.028774</td>\n",
              "      <td>-0.245883</td>\n",
              "      <td>-1.021093</td>\n",
              "      <td>-0.757784</td>\n",
              "      <td>0.198153</td>\n",
              "      <td>0.314423</td>\n",
              "      <td>0.324247</td>\n",
              "      <td>0.922920</td>\n",
              "      <td>-1.029140</td>\n",
              "      <td>-0.243521</td>\n",
              "      <td>-0.356263</td>\n",
              "      <td>0.358842</td>\n",
              "      <td>0.183850</td>\n",
              "      <td>-0.503072</td>\n",
              "      <td>-0.266893</td>\n",
              "      <td>0.082519</td>\n",
              "      <td>0.315347</td>\n",
              "      <td>-0.171097</td>\n",
              "      <td>0.032181</td>\n",
              "      <td>0.422732</td>\n",
              "      <td>-0.007358</td>\n",
              "      <td>0.351415</td>\n",
              "      <td>0.079492</td>\n",
              "      <td>0.004835</td>\n",
              "      <td>0.010804</td>\n",
              "      <td>0.016768</td>\n",
              "      <td>-0.005296</td>\n",
              "      <td>-0.012818</td>\n",
              "      <td>0.015258</td>\n",
              "      <td>4.147389e-14</td>\n",
              "      <td>-1.951419e-15</td>\n",
              "      <td>-3.264341e-16</td>\n",
              "      <td>-1.915014e-15</td>\n",
              "    </tr>\n",
              "    <tr>\n",
              "      <th>2</th>\n",
              "      <td>2.225052</td>\n",
              "      <td>-0.000313</td>\n",
              "      <td>-0.877655</td>\n",
              "      <td>-1.462145</td>\n",
              "      <td>1.095633</td>\n",
              "      <td>0.184197</td>\n",
              "      <td>0.308112</td>\n",
              "      <td>-0.062424</td>\n",
              "      <td>0.520518</td>\n",
              "      <td>-0.551318</td>\n",
              "      <td>-0.204634</td>\n",
              "      <td>-0.496201</td>\n",
              "      <td>0.467449</td>\n",
              "      <td>-0.380570</td>\n",
              "      <td>0.241874</td>\n",
              "      <td>0.268590</td>\n",
              "      <td>-0.145181</td>\n",
              "      <td>-0.255939</td>\n",
              "      <td>-0.214784</td>\n",
              "      <td>0.962929</td>\n",
              "      <td>-0.154600</td>\n",
              "      <td>0.605331</td>\n",
              "      <td>-0.367253</td>\n",
              "      <td>0.612996</td>\n",
              "      <td>0.016648</td>\n",
              "      <td>-0.366395</td>\n",
              "      <td>-0.493891</td>\n",
              "      <td>-0.328507</td>\n",
              "      <td>0.204014</td>\n",
              "      <td>0.086840</td>\n",
              "      <td>0.163748</td>\n",
              "      <td>-0.704259</td>\n",
              "      <td>0.735152</td>\n",
              "      <td>0.112527</td>\n",
              "      <td>0.223455</td>\n",
              "      <td>0.124422</td>\n",
              "      <td>0.141514</td>\n",
              "      <td>-0.763799</td>\n",
              "      <td>0.137479</td>\n",
              "      <td>-0.134131</td>\n",
              "      <td>-0.185184</td>\n",
              "      <td>0.150927</td>\n",
              "      <td>0.252707</td>\n",
              "      <td>-0.214491</td>\n",
              "      <td>-0.019499</td>\n",
              "      <td>0.002196</td>\n",
              "      <td>0.001128</td>\n",
              "      <td>-0.003339</td>\n",
              "      <td>-0.015294</td>\n",
              "      <td>0.014902</td>\n",
              "      <td>3.388755e-15</td>\n",
              "      <td>8.079010e-15</td>\n",
              "      <td>2.149455e-15</td>\n",
              "      <td>2.676374e-16</td>\n",
              "    </tr>\n",
              "    <tr>\n",
              "      <th>3</th>\n",
              "      <td>0.258121</td>\n",
              "      <td>1.945273</td>\n",
              "      <td>1.596807</td>\n",
              "      <td>-0.896290</td>\n",
              "      <td>-0.091309</td>\n",
              "      <td>-0.516842</td>\n",
              "      <td>1.038900</td>\n",
              "      <td>-0.574375</td>\n",
              "      <td>1.813201</td>\n",
              "      <td>2.975903</td>\n",
              "      <td>-2.026430</td>\n",
              "      <td>-0.024994</td>\n",
              "      <td>-1.103792</td>\n",
              "      <td>0.003117</td>\n",
              "      <td>0.192688</td>\n",
              "      <td>1.639762</td>\n",
              "      <td>-0.664637</td>\n",
              "      <td>0.125741</td>\n",
              "      <td>-1.381478</td>\n",
              "      <td>-0.151954</td>\n",
              "      <td>-0.821328</td>\n",
              "      <td>-0.266114</td>\n",
              "      <td>1.169607</td>\n",
              "      <td>-1.064725</td>\n",
              "      <td>0.547272</td>\n",
              "      <td>-1.564854</td>\n",
              "      <td>0.162634</td>\n",
              "      <td>-1.709682</td>\n",
              "      <td>-0.239434</td>\n",
              "      <td>0.276500</td>\n",
              "      <td>-0.756700</td>\n",
              "      <td>-0.153174</td>\n",
              "      <td>-0.604525</td>\n",
              "      <td>0.549827</td>\n",
              "      <td>0.633313</td>\n",
              "      <td>0.265043</td>\n",
              "      <td>0.035106</td>\n",
              "      <td>-0.371118</td>\n",
              "      <td>0.862305</td>\n",
              "      <td>-0.139320</td>\n",
              "      <td>0.638170</td>\n",
              "      <td>-0.069210</td>\n",
              "      <td>-1.180524</td>\n",
              "      <td>-0.098830</td>\n",
              "      <td>-0.094200</td>\n",
              "      <td>-0.001793</td>\n",
              "      <td>-0.016758</td>\n",
              "      <td>0.025326</td>\n",
              "      <td>-0.019686</td>\n",
              "      <td>-0.006231</td>\n",
              "      <td>2.477272e-15</td>\n",
              "      <td>6.717956e-15</td>\n",
              "      <td>-1.504691e-15</td>\n",
              "      <td>3.795743e-15</td>\n",
              "    </tr>\n",
              "    <tr>\n",
              "      <th>4</th>\n",
              "      <td>4.610783</td>\n",
              "      <td>0.721530</td>\n",
              "      <td>-1.251792</td>\n",
              "      <td>0.244110</td>\n",
              "      <td>1.612795</td>\n",
              "      <td>-0.318848</td>\n",
              "      <td>0.184196</td>\n",
              "      <td>0.919717</td>\n",
              "      <td>0.252666</td>\n",
              "      <td>-0.472698</td>\n",
              "      <td>-0.352673</td>\n",
              "      <td>-0.792042</td>\n",
              "      <td>0.329168</td>\n",
              "      <td>-1.136798</td>\n",
              "      <td>0.775775</td>\n",
              "      <td>-0.182648</td>\n",
              "      <td>-0.458345</td>\n",
              "      <td>-0.669922</td>\n",
              "      <td>0.533425</td>\n",
              "      <td>1.082567</td>\n",
              "      <td>0.503077</td>\n",
              "      <td>0.468120</td>\n",
              "      <td>-0.578132</td>\n",
              "      <td>-0.316053</td>\n",
              "      <td>-0.525839</td>\n",
              "      <td>-0.940433</td>\n",
              "      <td>-0.471219</td>\n",
              "      <td>-0.470178</td>\n",
              "      <td>-0.236539</td>\n",
              "      <td>0.109097</td>\n",
              "      <td>-0.179400</td>\n",
              "      <td>-0.523741</td>\n",
              "      <td>0.123538</td>\n",
              "      <td>-0.349162</td>\n",
              "      <td>0.324246</td>\n",
              "      <td>0.011036</td>\n",
              "      <td>0.128187</td>\n",
              "      <td>-0.181720</td>\n",
              "      <td>0.023676</td>\n",
              "      <td>0.234033</td>\n",
              "      <td>0.071924</td>\n",
              "      <td>-0.308805</td>\n",
              "      <td>0.158610</td>\n",
              "      <td>-0.131648</td>\n",
              "      <td>-0.022967</td>\n",
              "      <td>0.029455</td>\n",
              "      <td>0.006699</td>\n",
              "      <td>0.011409</td>\n",
              "      <td>-0.004998</td>\n",
              "      <td>-0.018903</td>\n",
              "      <td>-2.356002e-15</td>\n",
              "      <td>4.949228e-18</td>\n",
              "      <td>1.022054e-15</td>\n",
              "      <td>1.597004e-15</td>\n",
              "    </tr>\n",
              "  </tbody>\n",
              "</table>\n",
              "</div>"
            ],
            "text/plain": [
              "        PC1       PC2       PC3  ...          PC52          PC53          PC54\n",
              "0  0.598091 -0.657415 -2.997089  ...  1.292988e-14  4.315467e-15 -2.989094e-15\n",
              "1  1.069087 -1.091076  2.143981  ... -1.951419e-15 -3.264341e-16 -1.915014e-15\n",
              "2  2.225052 -0.000313 -0.877655  ...  8.079010e-15  2.149455e-15  2.676374e-16\n",
              "3  0.258121  1.945273  1.596807  ...  6.717956e-15 -1.504691e-15  3.795743e-15\n",
              "4  4.610783  0.721530 -1.251792  ...  4.949228e-18  1.022054e-15  1.597004e-15\n",
              "\n",
              "[5 rows x 54 columns]"
            ]
          },
          "metadata": {},
          "execution_count": 19
        }
      ]
    },
    {
      "cell_type": "code",
      "metadata": {
        "colab": {
          "base_uri": "https://localhost:8080/",
          "height": 313
        },
        "id": "1CWUV8fksKBb",
        "outputId": "7bcb205d-aea2-4d5c-81f5-8cea209e7227"
      },
      "source": [
        "loadings = pd.DataFrame(\n",
        "    pca.components_.T,  # transpose the matrix of loadings\n",
        "    columns=component_names,  # so the columns are the principal components\n",
        "    index=X.columns,  # and the rows are the original features\n",
        ")\n",
        "loadings.head()"
      ],
      "execution_count": null,
      "outputs": [
        {
          "output_type": "execute_result",
          "data": {
            "text/html": [
              "<div>\n",
              "<style scoped>\n",
              "    .dataframe tbody tr th:only-of-type {\n",
              "        vertical-align: middle;\n",
              "    }\n",
              "\n",
              "    .dataframe tbody tr th {\n",
              "        vertical-align: top;\n",
              "    }\n",
              "\n",
              "    .dataframe thead th {\n",
              "        text-align: right;\n",
              "    }\n",
              "</style>\n",
              "<table border=\"1\" class=\"dataframe\">\n",
              "  <thead>\n",
              "    <tr style=\"text-align: right;\">\n",
              "      <th></th>\n",
              "      <th>PC1</th>\n",
              "      <th>PC2</th>\n",
              "      <th>PC3</th>\n",
              "      <th>PC4</th>\n",
              "      <th>PC5</th>\n",
              "      <th>PC6</th>\n",
              "      <th>PC7</th>\n",
              "      <th>PC8</th>\n",
              "      <th>PC9</th>\n",
              "      <th>PC10</th>\n",
              "      <th>PC11</th>\n",
              "      <th>PC12</th>\n",
              "      <th>PC13</th>\n",
              "      <th>PC14</th>\n",
              "      <th>PC15</th>\n",
              "      <th>PC16</th>\n",
              "      <th>PC17</th>\n",
              "      <th>PC18</th>\n",
              "      <th>PC19</th>\n",
              "      <th>PC20</th>\n",
              "      <th>PC21</th>\n",
              "      <th>PC22</th>\n",
              "      <th>PC23</th>\n",
              "      <th>PC24</th>\n",
              "      <th>PC25</th>\n",
              "      <th>PC26</th>\n",
              "      <th>PC27</th>\n",
              "      <th>PC28</th>\n",
              "      <th>PC29</th>\n",
              "      <th>PC30</th>\n",
              "      <th>PC31</th>\n",
              "      <th>PC32</th>\n",
              "      <th>PC33</th>\n",
              "      <th>PC34</th>\n",
              "      <th>PC35</th>\n",
              "      <th>PC36</th>\n",
              "      <th>PC37</th>\n",
              "      <th>PC38</th>\n",
              "      <th>PC39</th>\n",
              "      <th>PC40</th>\n",
              "      <th>PC41</th>\n",
              "      <th>PC42</th>\n",
              "      <th>PC43</th>\n",
              "      <th>PC44</th>\n",
              "      <th>PC45</th>\n",
              "      <th>PC46</th>\n",
              "      <th>PC47</th>\n",
              "      <th>PC48</th>\n",
              "      <th>PC49</th>\n",
              "      <th>PC50</th>\n",
              "      <th>PC51</th>\n",
              "      <th>PC52</th>\n",
              "      <th>PC53</th>\n",
              "      <th>PC54</th>\n",
              "    </tr>\n",
              "  </thead>\n",
              "  <tbody>\n",
              "    <tr>\n",
              "      <th>ord_GarageQual</th>\n",
              "      <td>-0.092775</td>\n",
              "      <td>0.057502</td>\n",
              "      <td>0.000141</td>\n",
              "      <td>0.068389</td>\n",
              "      <td>0.009979</td>\n",
              "      <td>0.395378</td>\n",
              "      <td>-0.155175</td>\n",
              "      <td>-0.062671</td>\n",
              "      <td>-0.035809</td>\n",
              "      <td>-0.142574</td>\n",
              "      <td>-0.011969</td>\n",
              "      <td>-0.035897</td>\n",
              "      <td>-0.012049</td>\n",
              "      <td>-0.008243</td>\n",
              "      <td>0.054342</td>\n",
              "      <td>0.045059</td>\n",
              "      <td>0.013640</td>\n",
              "      <td>-0.021047</td>\n",
              "      <td>-0.043470</td>\n",
              "      <td>0.034601</td>\n",
              "      <td>-0.023797</td>\n",
              "      <td>0.103932</td>\n",
              "      <td>0.030229</td>\n",
              "      <td>-0.137321</td>\n",
              "      <td>0.106132</td>\n",
              "      <td>-0.162607</td>\n",
              "      <td>0.093120</td>\n",
              "      <td>0.003726</td>\n",
              "      <td>0.014486</td>\n",
              "      <td>-0.010996</td>\n",
              "      <td>-0.275567</td>\n",
              "      <td>0.047562</td>\n",
              "      <td>0.088120</td>\n",
              "      <td>-0.239730</td>\n",
              "      <td>-0.079526</td>\n",
              "      <td>0.054407</td>\n",
              "      <td>-0.007568</td>\n",
              "      <td>0.025436</td>\n",
              "      <td>-0.096550</td>\n",
              "      <td>0.009378</td>\n",
              "      <td>-0.036845</td>\n",
              "      <td>-0.048566</td>\n",
              "      <td>-0.012154</td>\n",
              "      <td>-0.072436</td>\n",
              "      <td>-0.663497</td>\n",
              "      <td>-0.235652</td>\n",
              "      <td>0.026464</td>\n",
              "      <td>-0.061745</td>\n",
              "      <td>-0.073872</td>\n",
              "      <td>0.107194</td>\n",
              "      <td>-2.867194e-15</td>\n",
              "      <td>-0.000000e+00</td>\n",
              "      <td>0.000000e+00</td>\n",
              "      <td>0.000000e+00</td>\n",
              "    </tr>\n",
              "    <tr>\n",
              "      <th>ord_GarageCond</th>\n",
              "      <td>-0.090561</td>\n",
              "      <td>0.061695</td>\n",
              "      <td>-0.000236</td>\n",
              "      <td>0.068403</td>\n",
              "      <td>0.011672</td>\n",
              "      <td>0.397543</td>\n",
              "      <td>-0.148308</td>\n",
              "      <td>-0.060218</td>\n",
              "      <td>-0.036014</td>\n",
              "      <td>-0.133646</td>\n",
              "      <td>-0.012543</td>\n",
              "      <td>-0.030922</td>\n",
              "      <td>-0.002538</td>\n",
              "      <td>-0.010316</td>\n",
              "      <td>0.037739</td>\n",
              "      <td>0.048878</td>\n",
              "      <td>0.009991</td>\n",
              "      <td>-0.016101</td>\n",
              "      <td>-0.055349</td>\n",
              "      <td>0.033987</td>\n",
              "      <td>-0.019480</td>\n",
              "      <td>0.123142</td>\n",
              "      <td>0.022273</td>\n",
              "      <td>-0.142104</td>\n",
              "      <td>0.101005</td>\n",
              "      <td>-0.171456</td>\n",
              "      <td>0.093963</td>\n",
              "      <td>0.006875</td>\n",
              "      <td>0.011474</td>\n",
              "      <td>-0.026143</td>\n",
              "      <td>-0.279079</td>\n",
              "      <td>0.065503</td>\n",
              "      <td>0.071190</td>\n",
              "      <td>-0.205347</td>\n",
              "      <td>-0.068537</td>\n",
              "      <td>0.066078</td>\n",
              "      <td>0.004448</td>\n",
              "      <td>0.001366</td>\n",
              "      <td>-0.069927</td>\n",
              "      <td>0.017034</td>\n",
              "      <td>-0.009979</td>\n",
              "      <td>-0.054789</td>\n",
              "      <td>-0.005913</td>\n",
              "      <td>-0.105788</td>\n",
              "      <td>0.693856</td>\n",
              "      <td>0.147919</td>\n",
              "      <td>-0.015805</td>\n",
              "      <td>-0.031653</td>\n",
              "      <td>-0.100486</td>\n",
              "      <td>0.112011</td>\n",
              "      <td>2.185013e-15</td>\n",
              "      <td>2.899157e-16</td>\n",
              "      <td>-1.522220e-16</td>\n",
              "      <td>-4.350903e-16</td>\n",
              "    </tr>\n",
              "    <tr>\n",
              "      <th>ord_FireplaceQu</th>\n",
              "      <td>-0.414539</td>\n",
              "      <td>-0.259767</td>\n",
              "      <td>-0.493093</td>\n",
              "      <td>0.457098</td>\n",
              "      <td>0.129877</td>\n",
              "      <td>-0.184786</td>\n",
              "      <td>-0.100413</td>\n",
              "      <td>0.037983</td>\n",
              "      <td>0.037733</td>\n",
              "      <td>-0.044202</td>\n",
              "      <td>0.004194</td>\n",
              "      <td>0.059454</td>\n",
              "      <td>-0.057114</td>\n",
              "      <td>-0.023758</td>\n",
              "      <td>0.046282</td>\n",
              "      <td>0.034920</td>\n",
              "      <td>-0.028253</td>\n",
              "      <td>0.008801</td>\n",
              "      <td>0.069430</td>\n",
              "      <td>0.006607</td>\n",
              "      <td>0.038413</td>\n",
              "      <td>-0.024551</td>\n",
              "      <td>0.083586</td>\n",
              "      <td>0.041226</td>\n",
              "      <td>0.020601</td>\n",
              "      <td>0.076283</td>\n",
              "      <td>0.002665</td>\n",
              "      <td>0.126648</td>\n",
              "      <td>-0.030763</td>\n",
              "      <td>-0.025687</td>\n",
              "      <td>0.006881</td>\n",
              "      <td>-0.045043</td>\n",
              "      <td>0.066920</td>\n",
              "      <td>-0.004192</td>\n",
              "      <td>0.088173</td>\n",
              "      <td>0.367600</td>\n",
              "      <td>0.021327</td>\n",
              "      <td>0.199923</td>\n",
              "      <td>0.002876</td>\n",
              "      <td>0.005484</td>\n",
              "      <td>-0.015819</td>\n",
              "      <td>0.003447</td>\n",
              "      <td>0.029041</td>\n",
              "      <td>0.018235</td>\n",
              "      <td>0.008239</td>\n",
              "      <td>-0.008991</td>\n",
              "      <td>-0.001810</td>\n",
              "      <td>-0.002070</td>\n",
              "      <td>-0.000110</td>\n",
              "      <td>-0.002780</td>\n",
              "      <td>1.339258e-16</td>\n",
              "      <td>2.104362e-16</td>\n",
              "      <td>1.518948e-16</td>\n",
              "      <td>1.058428e-16</td>\n",
              "    </tr>\n",
              "    <tr>\n",
              "      <th>ord_BsmtQual</th>\n",
              "      <td>-0.182599</td>\n",
              "      <td>0.141846</td>\n",
              "      <td>0.103397</td>\n",
              "      <td>0.066520</td>\n",
              "      <td>-0.017579</td>\n",
              "      <td>-0.095784</td>\n",
              "      <td>0.223364</td>\n",
              "      <td>0.021022</td>\n",
              "      <td>-0.058612</td>\n",
              "      <td>-0.034123</td>\n",
              "      <td>0.028459</td>\n",
              "      <td>-0.056424</td>\n",
              "      <td>0.092207</td>\n",
              "      <td>0.019232</td>\n",
              "      <td>-0.060638</td>\n",
              "      <td>-0.104684</td>\n",
              "      <td>0.052632</td>\n",
              "      <td>-0.016497</td>\n",
              "      <td>-0.051852</td>\n",
              "      <td>-0.086303</td>\n",
              "      <td>0.041542</td>\n",
              "      <td>0.217830</td>\n",
              "      <td>0.075763</td>\n",
              "      <td>-0.164956</td>\n",
              "      <td>-0.056763</td>\n",
              "      <td>-0.054041</td>\n",
              "      <td>-0.247061</td>\n",
              "      <td>0.256867</td>\n",
              "      <td>-0.270851</td>\n",
              "      <td>-0.013494</td>\n",
              "      <td>-0.078087</td>\n",
              "      <td>-0.120405</td>\n",
              "      <td>0.093884</td>\n",
              "      <td>0.138781</td>\n",
              "      <td>-0.106700</td>\n",
              "      <td>0.055638</td>\n",
              "      <td>0.151942</td>\n",
              "      <td>-0.178789</td>\n",
              "      <td>0.032540</td>\n",
              "      <td>0.435451</td>\n",
              "      <td>-0.080512</td>\n",
              "      <td>-0.131508</td>\n",
              "      <td>-0.451729</td>\n",
              "      <td>-0.014017</td>\n",
              "      <td>-0.016388</td>\n",
              "      <td>0.011404</td>\n",
              "      <td>-0.011002</td>\n",
              "      <td>0.006145</td>\n",
              "      <td>-0.004888</td>\n",
              "      <td>-0.001447</td>\n",
              "      <td>1.398508e-16</td>\n",
              "      <td>-2.436935e-17</td>\n",
              "      <td>-4.672585e-17</td>\n",
              "      <td>-4.969697e-16</td>\n",
              "    </tr>\n",
              "    <tr>\n",
              "      <th>ord_BsmtCond</th>\n",
              "      <td>-0.047486</td>\n",
              "      <td>0.055127</td>\n",
              "      <td>0.001749</td>\n",
              "      <td>0.024295</td>\n",
              "      <td>-0.015692</td>\n",
              "      <td>0.015258</td>\n",
              "      <td>0.192440</td>\n",
              "      <td>-0.025393</td>\n",
              "      <td>-0.025068</td>\n",
              "      <td>-0.037954</td>\n",
              "      <td>0.024297</td>\n",
              "      <td>-0.058990</td>\n",
              "      <td>0.081051</td>\n",
              "      <td>0.044763</td>\n",
              "      <td>-0.066408</td>\n",
              "      <td>-0.078915</td>\n",
              "      <td>0.035936</td>\n",
              "      <td>0.004506</td>\n",
              "      <td>-0.076143</td>\n",
              "      <td>-0.014633</td>\n",
              "      <td>0.067191</td>\n",
              "      <td>0.189193</td>\n",
              "      <td>0.115798</td>\n",
              "      <td>-0.162356</td>\n",
              "      <td>-0.050805</td>\n",
              "      <td>-0.047227</td>\n",
              "      <td>-0.141858</td>\n",
              "      <td>0.282565</td>\n",
              "      <td>-0.217649</td>\n",
              "      <td>0.087842</td>\n",
              "      <td>-0.015459</td>\n",
              "      <td>-0.098038</td>\n",
              "      <td>-0.051976</td>\n",
              "      <td>0.037574</td>\n",
              "      <td>-0.134482</td>\n",
              "      <td>-0.040092</td>\n",
              "      <td>0.078171</td>\n",
              "      <td>0.008671</td>\n",
              "      <td>-0.198613</td>\n",
              "      <td>-0.036899</td>\n",
              "      <td>0.304370</td>\n",
              "      <td>0.189910</td>\n",
              "      <td>0.679029</td>\n",
              "      <td>0.108419</td>\n",
              "      <td>-0.011250</td>\n",
              "      <td>0.020164</td>\n",
              "      <td>0.016092</td>\n",
              "      <td>-0.018152</td>\n",
              "      <td>0.004879</td>\n",
              "      <td>0.001161</td>\n",
              "      <td>-1.765617e-16</td>\n",
              "      <td>-1.572966e-17</td>\n",
              "      <td>3.104606e-17</td>\n",
              "      <td>-3.206074e-17</td>\n",
              "    </tr>\n",
              "  </tbody>\n",
              "</table>\n",
              "</div>"
            ],
            "text/plain": [
              "                      PC1       PC2  ...          PC53          PC54\n",
              "ord_GarageQual  -0.092775  0.057502  ...  0.000000e+00  0.000000e+00\n",
              "ord_GarageCond  -0.090561  0.061695  ... -1.522220e-16 -4.350903e-16\n",
              "ord_FireplaceQu -0.414539 -0.259767  ...  1.518948e-16  1.058428e-16\n",
              "ord_BsmtQual    -0.182599  0.141846  ... -4.672585e-17 -4.969697e-16\n",
              "ord_BsmtCond    -0.047486  0.055127  ...  3.104606e-17 -3.206074e-17\n",
              "\n",
              "[5 rows x 54 columns]"
            ]
          },
          "metadata": {},
          "execution_count": 21
        }
      ]
    },
    {
      "cell_type": "code",
      "metadata": {
        "colab": {
          "base_uri": "https://localhost:8080/",
          "height": 450
        },
        "id": "ZW4Fwo5csSz-",
        "outputId": "11576692-725b-425e-eb47-e6aad2ff52ee"
      },
      "source": [
        "def plot_variance(pca, width=8, dpi=100):\n",
        "    # Create figure\n",
        "    fig, axs = plt.subplots(1, 2)\n",
        "    n = pca.n_components_\n",
        "    grid = np.arange(1, n + 1)\n",
        "    # Explained variance\n",
        "    evr = pca.explained_variance_ratio_\n",
        "    axs[0].bar(grid, evr)\n",
        "    axs[0].set(\n",
        "        xlabel=\"Component\", title=\"% Explained Variance\", ylim=(0.0, 1.0)\n",
        "    )\n",
        "    # Cumulative Variance\n",
        "    cv = np.cumsum(evr)\n",
        "    axs[1].plot(np.r_[0, grid], np.r_[0, cv], \"o-\")\n",
        "    axs[1].set(\n",
        "        xlabel=\"Component\", title=\"% Cumulative Variance\", ylim=(0.0, 1.0)\n",
        "    )\n",
        "    # Set up figure\n",
        "    fig.set(figwidth=8, dpi=100)\n",
        "    return axs\n",
        "\n",
        "plot_variance(pca)"
      ],
      "execution_count": null,
      "outputs": [
        {
          "output_type": "execute_result",
          "data": {
            "text/plain": [
              "array([<matplotlib.axes._subplots.AxesSubplot object at 0x7f5500a29550>,\n",
              "       <matplotlib.axes._subplots.AxesSubplot object at 0x7f55009cd310>],\n",
              "      dtype=object)"
            ]
          },
          "metadata": {},
          "execution_count": 23
        },
        {
          "output_type": "display_data",
          "data": {
            "image/png": "[encoded data removed]",
            "text/plain": [
              "<Figure size 800x400 with 2 Axes>"
            ]
          },
          "metadata": {}
        }
      ]
    },
    {
      "cell_type": "code",
      "metadata": {
        "colab": {
          "base_uri": "https://localhost:8080/"
        },
        "id": "c5blawXBshxC",
        "outputId": "679f8558-e4ba-466a-ba0f-cf1d4f71eaa9"
      },
      "source": [
        "def make_mi_scores(X, y, discrete_features):\n",
        "    mi_scores = mutual_info_regression(X, y, discrete_features=discrete_features)\n",
        "    mi_scores = pd.Series(mi_scores, name=\"MI Scores\", index=X.columns)\n",
        "    mi_scores = mi_scores.sort_values(ascending=False)\n",
        "    return mi_scores\n",
        "\n",
        "mi_scores = make_mi_scores(X_pca, y, discrete_features=False)\n",
        "mi_scores"
      ],
      "execution_count": null,
      "outputs": [
        {
          "output_type": "execute_result",
          "data": {
            "text/plain": [
              "PC1     1.020432\n",
              "PC42    0.124612\n",
              "PC3     0.115736\n",
              "PC6     0.108788\n",
              "PC50    0.107579\n",
              "PC49    0.097193\n",
              "PC4     0.073001\n",
              "PC5     0.068646\n",
              "PC2     0.057770\n",
              "PC11    0.054640\n",
              "PC31    0.054276\n",
              "PC43    0.049315\n",
              "PC10    0.048984\n",
              "PC26    0.048060\n",
              "PC7     0.043438\n",
              "PC48    0.043331\n",
              "PC19    0.041642\n",
              "PC15    0.041233\n",
              "PC33    0.039759\n",
              "PC25    0.038726\n",
              "PC39    0.037889\n",
              "PC36    0.037310\n",
              "PC16    0.037088\n",
              "PC45    0.036411\n",
              "PC23    0.035567\n",
              "PC47    0.035313\n",
              "PC13    0.035068\n",
              "PC34    0.035043\n",
              "PC29    0.035031\n",
              "PC52    0.034532\n",
              "PC21    0.030819\n",
              "PC12    0.029799\n",
              "PC44    0.028943\n",
              "PC24    0.028712\n",
              "PC46    0.028005\n",
              "PC41    0.027889\n",
              "PC18    0.024470\n",
              "PC27    0.022591\n",
              "PC40    0.022493\n",
              "PC30    0.020990\n",
              "PC35    0.018977\n",
              "PC32    0.017831\n",
              "PC14    0.015657\n",
              "PC38    0.013889\n",
              "PC22    0.006713\n",
              "PC8     0.006559\n",
              "PC28    0.003227\n",
              "PC53    0.000241\n",
              "PC17    0.000000\n",
              "PC20    0.000000\n",
              "PC9     0.000000\n",
              "PC37    0.000000\n",
              "PC51    0.000000\n",
              "PC54    0.000000\n",
              "Name: MI Scores, dtype: float64"
            ]
          },
          "metadata": {},
          "execution_count": 24
        }
      ]
    },
    {
      "cell_type": "markdown",
      "metadata": {
        "id": "NoFxrIyis4dk"
      },
      "source": [
        "# Create the Model (without CV-optimizer)"
      ]
    },
    {
      "cell_type": "code",
      "metadata": {
        "id": "Jc7S7GI0SYv2",
        "colab": {
          "base_uri": "https://localhost:8080/",
          "height": 459
        },
        "outputId": "92c1fc98-78a2-46b2-8fce-6d6ae6563b31"
      },
      "source": [
        "X_train, X_test, y_train, y_test = train_test_split(df.iloc[:,:-1], df[\"SalePrice\"], test_size = 0.4)\n",
        "feature_pipeline = buildFeaturesPipeline()\n",
        "# feature_pipeline.fit_transform(df)\n",
        "\n",
        "params = {'num_leaves': 50, \n",
        "          'n_estimators': 1600, \n",
        "          'min_data': 50, \n",
        "          'max_depth': 5, \n",
        "          'learning_rate': 0.3, \n",
        "          'lambda_l2': 9, \n",
        "          'lambda_l1': 5}\n",
        "model_lgb = LGBMRegressor(**params)\n",
        "\n",
        "my_pipeline = Pipeline(\n",
        "    steps=[\n",
        "           (\"preprocessing\", feature_pipeline),\n",
        "           (\"model\", model_lgb)\n",
        "    ]\n",
        ")\n",
        "\n",
        "my_pipeline.fit(X_train, y_train)\n",
        "prediction = my_pipeline.predict(df.iloc[:,:-1])\n",
        "pred_chart(df.iloc[:,-1], prediction)"
      ],
      "execution_count": 50,
      "outputs": [
        {
          "output_type": "stream",
          "name": "stdout",
          "text": [
            "RMSE= 19678.246\n"
          ]
        },
        {
          "output_type": "display_data",
          "data": {
            "image/png": "[encoded data removed]",
            "text/plain": [
              "<Figure size 504x504 with 1 Axes>"
            ]
          },
          "metadata": {
            "needs_background": "light"
          }
        }
      ]
    },
    {
      "cell_type": "code",
      "metadata": {
        "id": "-UZApkQ9SDxU"
      },
      "source": [
        ""
      ],
      "execution_count": null,
      "outputs": []
    },
    {
      "cell_type": "code",
      "metadata": {
        "id": "Fz1XmeGeSv7D",
        "colab": {
          "base_uri": "https://localhost:8080/",
          "height": 237
        },
        "outputId": "c30fd315-7f3a-4f8a-c1c3-a0c86ab501ee"
      },
      "source": [
        "predict_test = my_pipeline.predict(df_test)\n",
        "submission = pd.DataFrame({\"SalePrice\":predict_test}, index=df_test.index)\n",
        "submission.head()"
      ],
      "execution_count": null,
      "outputs": [
        {
          "output_type": "execute_result",
          "data": {
            "text/html": [
              "\n",
              "  <div id=\"df-672197b5-b9cf-4bc8-9911-46c39bcfc1f2\">\n",
              "    <div class=\"colab-df-container\">\n",
              "      <div>\n",
              "<style scoped>\n",
              "    .dataframe tbody tr th:only-of-type {\n",
              "        vertical-align: middle;\n",
              "    }\n",
              "\n",
              "    .dataframe tbody tr th {\n",
              "        vertical-align: top;\n",
              "    }\n",
              "\n",
              "    .dataframe thead th {\n",
              "        text-align: right;\n",
              "    }\n",
              "</style>\n",
              "<table border=\"1\" class=\"dataframe\">\n",
              "  <thead>\n",
              "    <tr style=\"text-align: right;\">\n",
              "      <th></th>\n",
              "      <th>SalePrice</th>\n",
              "    </tr>\n",
              "    <tr>\n",
              "      <th>Id</th>\n",
              "      <th></th>\n",
              "    </tr>\n",
              "  </thead>\n",
              "  <tbody>\n",
              "    <tr>\n",
              "      <th>1461</th>\n",
              "      <td>133576.951267</td>\n",
              "    </tr>\n",
              "    <tr>\n",
              "      <th>1462</th>\n",
              "      <td>151417.312765</td>\n",
              "    </tr>\n",
              "    <tr>\n",
              "      <th>1463</th>\n",
              "      <td>171901.000194</td>\n",
              "    </tr>\n",
              "    <tr>\n",
              "      <th>1464</th>\n",
              "      <td>186464.335316</td>\n",
              "    </tr>\n",
              "    <tr>\n",
              "      <th>1465</th>\n",
              "      <td>185056.822555</td>\n",
              "    </tr>\n",
              "  </tbody>\n",
              "</table>\n",
              "</div>\n",
              "      <button class=\"colab-df-convert\" onclick=\"convertToInteractive('df-672197b5-b9cf-4bc8-9911-46c39bcfc1f2')\"\n",
              "              title=\"Convert this dataframe to an interactive table.\"\n",
              "              style=\"display:none;\">\n",
              "        \n",
              "  <svg xmlns=\"http://www.w3.org/2000/svg\" height=\"24px\"viewBox=\"0 0 24 24\"\n",
              "       width=\"24px\">\n",
              "    <path d=\"M0 0h24v24H0V0z\" fill=\"none\"/>\n",
              "    <path d=\"M18.56 5.44l.94 2.06.94-2.06 2.06-.94-2.06-.94-.94-2.06-.94 2.06-2.06.94zm-11 1L8.5 8.5l.94-2.06 2.06-.94-2.06-.94L8.5 2.5l-.94 2.06-2.06.94zm10 10l.94 2.06.94-2.06 2.06-.94-2.06-.94-.94-2.06-.94 2.06-2.06.94z\"/><path d=\"M17.41 7.96l-1.37-1.37c-.4-.4-.92-.59-1.43-.59-.52 0-1.04.2-1.43.59L10.3 9.45l-7.72 7.72c-.78.78-.78 2.05 0 2.83L4 21.41c.39.39.9.59 1.41.59.51 0 1.02-.2 1.41-.59l7.78-7.78 2.81-2.81c.8-.78.8-2.07 0-2.86zM5.41 20L4 18.59l7.72-7.72 1.47 1.35L5.41 20z\"/>\n",
              "  </svg>\n",
              "      </button>\n",
              "      \n",
              "  <style>\n",
              "    .colab-df-container {\n",
              "      display:flex;\n",
              "      flex-wrap:wrap;\n",
              "      gap: 12px;\n",
              "    }\n",
              "\n",
              "    .colab-df-convert {\n",
              "      background-color: #E8F0FE;\n",
              "      border: none;\n",
              "      border-radius: 50%;\n",
              "      cursor: pointer;\n",
              "      display: none;\n",
              "      fill: #1967D2;\n",
              "      height: 32px;\n",
              "      padding: 0 0 0 0;\n",
              "      width: 32px;\n",
              "    }\n",
              "\n",
              "    .colab-df-convert:hover {\n",
              "      background-color: #E2EBFA;\n",
              "      box-shadow: 0px 1px 2px rgba(60, 64, 67, 0.3), 0px 1px 3px 1px rgba(60, 64, 67, 0.15);\n",
              "      fill: #174EA6;\n",
              "    }\n",
              "\n",
              "    [theme=dark] .colab-df-convert {\n",
              "      background-color: #3B4455;\n",
              "      fill: #D2E3FC;\n",
              "    }\n",
              "\n",
              "    [theme=dark] .colab-df-convert:hover {\n",
              "      background-color: #434B5C;\n",
              "      box-shadow: 0px 1px 3px 1px rgba(0, 0, 0, 0.15);\n",
              "      filter: drop-shadow(0px 1px 2px rgba(0, 0, 0, 0.3));\n",
              "      fill: #FFFFFF;\n",
              "    }\n",
              "  </style>\n",
              "\n",
              "      <script>\n",
              "        const buttonEl =\n",
              "          document.querySelector('#df-672197b5-b9cf-4bc8-9911-46c39bcfc1f2 button.colab-df-convert');\n",
              "        buttonEl.style.display =\n",
              "          google.colab.kernel.accessAllowed ? 'block' : 'none';\n",
              "\n",
              "        async function convertToInteractive(key) {\n",
              "          const element = document.querySelector('#df-672197b5-b9cf-4bc8-9911-46c39bcfc1f2');\n",
              "          const dataTable =\n",
              "            await google.colab.kernel.invokeFunction('convertToInteractive',\n",
              "                                                     [key], {});\n",
              "          if (!dataTable) return;\n",
              "\n",
              "          const docLinkHtml = 'Like what you see? Visit the ' +\n",
              "            '<a target=\"_blank\" href=https://colab.research.google.com/notebooks/data_table.ipynb>data table notebook</a>'\n",
              "            + ' to learn more about interactive tables.';\n",
              "          element.innerHTML = '';\n",
              "          dataTable['output_type'] = 'display_data';\n",
              "          await google.colab.output.renderOutput(dataTable, element);\n",
              "          const docLink = document.createElement('div');\n",
              "          docLink.innerHTML = docLinkHtml;\n",
              "          element.appendChild(docLink);\n",
              "        }\n",
              "      </script>\n",
              "    </div>\n",
              "  </div>\n",
              "  "
            ],
            "text/plain": [
              "          SalePrice\n",
              "Id                 \n",
              "1461  133576.951267\n",
              "1462  151417.312765\n",
              "1463  171901.000194\n",
              "1464  186464.335316\n",
              "1465  185056.822555"
            ]
          },
          "metadata": {},
          "execution_count": 22
        }
      ]
    },
    {
      "cell_type": "code",
      "metadata": {
        "id": "YHbD9P4qS24r"
      },
      "source": [
        "#submission.to_csv(\"Submission_lgb_2021-08-31.csv\")"
      ],
      "execution_count": null,
      "outputs": []
    },
    {
      "cell_type": "markdown",
      "metadata": {
        "id": "fCvaNXSutxx6"
      },
      "source": [
        "# Using Randomized CV"
      ]
    },
    {
      "cell_type": "code",
      "metadata": {
        "id": "juv2gtGXuhDw"
      },
      "source": [
        "from sklearn.model_selection import RandomizedSearchCV"
      ],
      "execution_count": 14,
      "outputs": []
    },
    {
      "cell_type": "code",
      "metadata": {
        "id": "G4TVOyaMviul"
      },
      "source": [
        "# prepper = buildFeaturesPipeline()\n",
        "# X_train, X_val, y_train, y_val = train_test_split(df.iloc[:,:-1], df[\"SalePrice\"], test_size = 0.4)"
      ],
      "execution_count": 15,
      "outputs": []
    },
    {
      "cell_type": "code",
      "metadata": {
        "colab": {
          "base_uri": "https://localhost:8080/"
        },
        "id": "jXBQNBIiuCSh",
        "outputId": "fe8ea284-f575-4d3b-e9c2-a77d4ee007ea"
      },
      "source": [
        "param_grid =  {\n",
        "          'learning_rate': [0.1, 0.3, 0.5, 1],\n",
        "          'num_leaves': np.arange(5, 51, 5),\n",
        "          'min_data': np.arange(50,651,50),\n",
        "          'max_depth': np.arange(5, 31, 5),\n",
        "          \"n_estimators\": np.arange(100,5001,100),\n",
        "          \"lambda_l1\" : np.arange(0,10,1),\n",
        "          \"lambda_l2\" : np.arange(0,10,1)\n",
        "          }\n",
        "\n",
        "# params={\n",
        "#     \"sub_feature\" : 0.1,\n",
        "#     'boosting_type': 'gbdt',\n",
        "#     'objective': 'regression',\n",
        "#     'metric': 'rmse',\n",
        "#     'num_leaves': 15,\n",
        "#     'n_estimators': 5000,\n",
        "#     'min_data': 450,\n",
        "#     'max_depth': 10,\n",
        "#     'learning_rate': 0.1,\n",
        "#     'lambda_l2': 4,\n",
        "#     'lambda_l1': 2\n",
        "# }\n",
        "\n",
        "model_lgb = LGBMRegressor(**param_grid)\n",
        "\n",
        "randomized_search = RandomizedSearchCV(param_distributions = param_grid,\n",
        "                                      estimator=model_lgb,\n",
        "                                      scoring=\"neg_mean_squared_error\",\n",
        "                                      n_iter=50,\n",
        "                                      cv=5,\n",
        "                                      verbose=1,\n",
        "                                      random_state=7\n",
        "                                      )\n",
        "\n",
        "pipe = Pipeline(steps=[\n",
        "                       (\"preprocessor\", prepper),\n",
        "                       (\"model\", randomized_search)\n",
        "])\n",
        "\n",
        "pipe.fit(df.iloc[:,:-1], df[\"SalePrice\"])"
      ],
      "execution_count": 44,
      "outputs": [
        {
          "output_type": "stream",
          "name": "stdout",
          "text": [
            "Fitting 5 folds for each of 50 candidates, totalling 250 fits\n"
          ]
        },
        {
          "output_type": "execute_result",
          "data": {
            "text/plain": [
              "Pipeline(steps=[('preprocessor',\n",
              "                 Pipeline(steps=[('features',\n",
              "                                  <__main__.DFM_FeatureUnion object at 0x7f1cd722f550>)])),\n",
              "                ('model',\n",
              "                 RandomizedSearchCV(cv=5,\n",
              "                                    estimator=LGBMRegressor(lambda_l1=array([0, 1, 2, 3, 4, 5, 6, 7, 8, 9]),\n",
              "                                                            lambda_l2=array([0, 1, 2, 3, 4, 5, 6, 7, 8, 9]),\n",
              "                                                            learning_rate=[0.1,\n",
              "                                                                           0.3,\n",
              "                                                                           0.5,\n",
              "                                                                           1],\n",
              "                                                            max_depth=array([ 5, 10, 15, 20, 25, 30]),\n",
              "                                                            min_data=array([ 50, 100, 150, 200, 250,...\n",
              "                                                         'n_estimators': array([ 100,  200,  300,  400,  500,  600,  700,  800,  900, 1000, 1100,\n",
              "       1200, 1300, 1400, 1500, 1600, 1700, 1800, 1900, 2000, 2100, 2200,\n",
              "       2300, 2400, 2500, 2600, 2700, 2800, 2900, 3000, 3100, 3200, 3300,\n",
              "       3400, 3500, 3600, 3700, 3800, 3900, 4000, 4100, 4200, 4300, 4400,\n",
              "       4500, 4600, 4700, 4800, 4900, 5000]),\n",
              "                                                         'num_leaves': array([ 5, 10, 15, 20, 25, 30, 35, 40, 45, 50])},\n",
              "                                    random_state=7,\n",
              "                                    scoring='neg_mean_squared_error',\n",
              "                                    verbose=1))])"
            ]
          },
          "metadata": {},
          "execution_count": 44
        }
      ]
    },
    {
      "cell_type": "code",
      "metadata": {
        "colab": {
          "base_uri": "https://localhost:8080/"
        },
        "id": "Q7hvVPo6wVaS",
        "outputId": "56b3b763-66ed-4a11-a905-062984040864"
      },
      "source": [
        "print(randomized_search.best_params_)\n",
        "print(np.sqrt(np.abs(randomized_search.best_score_)))\n",
        "print(randomized_search.best_estimator_)"
      ],
      "execution_count": 45,
      "outputs": [
        {
          "output_type": "stream",
          "name": "stdout",
          "text": [
            "{'num_leaves': 50, 'n_estimators': 1600, 'min_data': 50, 'max_depth': 5, 'learning_rate': 0.3, 'lambda_l2': 9, 'lambda_l1': 5}\n",
            "31337.631477296512\n",
            "LGBMRegressor(lambda_l1=5, lambda_l2=9, learning_rate=0.3, max_depth=5,\n",
            "              min_data=50, n_estimators=1600, num_leaves=50)\n"
          ]
        }
      ]
    },
    {
      "cell_type": "markdown",
      "source": [
        "Prediction chart seems to give a RMSE of 323 with these params\n",
        "{'num_leaves': 50, 'n_estimators': 1600, 'min_data': 50, 'max_depth': 5, 'learning_rate': 0.3, 'lambda_l2': 9, 'lambda_l1': 5}\n",
        "\n",
        "Though CV itself gives: 31255.70180156976\n",
        "Also using them on a model directly (before CV part) gives 19678"
      ],
      "metadata": {
        "id": "GnEx85trOHUD"
      }
    },
    {
      "cell_type": "code",
      "metadata": {
        "colab": {
          "base_uri": "https://localhost:8080/",
          "height": 459
        },
        "id": "QcPRfey8zHRG",
        "outputId": "8b5dcb10-5fdc-476f-8b90-c6141c14b5f4"
      },
      "source": [
        "prediction = pipe.predict(df.iloc[:,:-1])\n",
        "pred_chart(df.iloc[:,-1], prediction)\n",
        "\n",
        "# pred_chart(pipe.predict(df.iloc[:,:-1]), df[\"SalePrice\"])"
      ],
      "execution_count": 51,
      "outputs": [
        {
          "output_type": "stream",
          "name": "stdout",
          "text": [
            "RMSE= 323.584\n"
          ]
        },
        {
          "output_type": "display_data",
          "data": {
            "image/png": "[encoded data removed]",
            "text/plain": [
              "<Figure size 504x504 with 1 Axes>"
            ]
          },
          "metadata": {
            "needs_background": "light"
          }
        }
      ]
    },
    {
      "cell_type": "code",
      "metadata": {
        "colab": {
          "base_uri": "https://localhost:8080/",
          "height": 237
        },
        "id": "90hYbipYf6-w",
        "outputId": "2355002b-d6ed-4ad5-a79d-5db56c461b6c"
      },
      "source": [
        "predict_test = pipe.predict(df_test)\n",
        "submission = pd.DataFrame({\"SalePrice\":predict_test}, index=df_test.index)\n",
        "submission.head()"
      ],
      "execution_count": 48,
      "outputs": [
        {
          "output_type": "execute_result",
          "data": {
            "text/html": [
              "\n",
              "  <div id=\"df-06d8b6d0-937f-4281-a65a-30b13cb1452d\">\n",
              "    <div class=\"colab-df-container\">\n",
              "      <div>\n",
              "<style scoped>\n",
              "    .dataframe tbody tr th:only-of-type {\n",
              "        vertical-align: middle;\n",
              "    }\n",
              "\n",
              "    .dataframe tbody tr th {\n",
              "        vertical-align: top;\n",
              "    }\n",
              "\n",
              "    .dataframe thead th {\n",
              "        text-align: right;\n",
              "    }\n",
              "</style>\n",
              "<table border=\"1\" class=\"dataframe\">\n",
              "  <thead>\n",
              "    <tr style=\"text-align: right;\">\n",
              "      <th></th>\n",
              "      <th>SalePrice</th>\n",
              "    </tr>\n",
              "    <tr>\n",
              "      <th>Id</th>\n",
              "      <th></th>\n",
              "    </tr>\n",
              "  </thead>\n",
              "  <tbody>\n",
              "    <tr>\n",
              "      <th>1461</th>\n",
              "      <td>129321.311918</td>\n",
              "    </tr>\n",
              "    <tr>\n",
              "      <th>1462</th>\n",
              "      <td>161367.657161</td>\n",
              "    </tr>\n",
              "    <tr>\n",
              "      <th>1463</th>\n",
              "      <td>186574.536259</td>\n",
              "    </tr>\n",
              "    <tr>\n",
              "      <th>1464</th>\n",
              "      <td>195196.870882</td>\n",
              "    </tr>\n",
              "    <tr>\n",
              "      <th>1465</th>\n",
              "      <td>188077.222141</td>\n",
              "    </tr>\n",
              "  </tbody>\n",
              "</table>\n",
              "</div>\n",
              "      <button class=\"colab-df-convert\" onclick=\"convertToInteractive('df-06d8b6d0-937f-4281-a65a-30b13cb1452d')\"\n",
              "              title=\"Convert this dataframe to an interactive table.\"\n",
              "              style=\"display:none;\">\n",
              "        \n",
              "  <svg xmlns=\"http://www.w3.org/2000/svg\" height=\"24px\"viewBox=\"0 0 24 24\"\n",
              "       width=\"24px\">\n",
              "    <path d=\"M0 0h24v24H0V0z\" fill=\"none\"/>\n",
              "    <path d=\"M18.56 5.44l.94 2.06.94-2.06 2.06-.94-2.06-.94-.94-2.06-.94 2.06-2.06.94zm-11 1L8.5 8.5l.94-2.06 2.06-.94-2.06-.94L8.5 2.5l-.94 2.06-2.06.94zm10 10l.94 2.06.94-2.06 2.06-.94-2.06-.94-.94-2.06-.94 2.06-2.06.94z\"/><path d=\"M17.41 7.96l-1.37-1.37c-.4-.4-.92-.59-1.43-.59-.52 0-1.04.2-1.43.59L10.3 9.45l-7.72 7.72c-.78.78-.78 2.05 0 2.83L4 21.41c.39.39.9.59 1.41.59.51 0 1.02-.2 1.41-.59l7.78-7.78 2.81-2.81c.8-.78.8-2.07 0-2.86zM5.41 20L4 18.59l7.72-7.72 1.47 1.35L5.41 20z\"/>\n",
              "  </svg>\n",
              "      </button>\n",
              "      \n",
              "  <style>\n",
              "    .colab-df-container {\n",
              "      display:flex;\n",
              "      flex-wrap:wrap;\n",
              "      gap: 12px;\n",
              "    }\n",
              "\n",
              "    .colab-df-convert {\n",
              "      background-color: #E8F0FE;\n",
              "      border: none;\n",
              "      border-radius: 50%;\n",
              "      cursor: pointer;\n",
              "      display: none;\n",
              "      fill: #1967D2;\n",
              "      height: 32px;\n",
              "      padding: 0 0 0 0;\n",
              "      width: 32px;\n",
              "    }\n",
              "\n",
              "    .colab-df-convert:hover {\n",
              "      background-color: #E2EBFA;\n",
              "      box-shadow: 0px 1px 2px rgba(60, 64, 67, 0.3), 0px 1px 3px 1px rgba(60, 64, 67, 0.15);\n",
              "      fill: #174EA6;\n",
              "    }\n",
              "\n",
              "    [theme=dark] .colab-df-convert {\n",
              "      background-color: #3B4455;\n",
              "      fill: #D2E3FC;\n",
              "    }\n",
              "\n",
              "    [theme=dark] .colab-df-convert:hover {\n",
              "      background-color: #434B5C;\n",
              "      box-shadow: 0px 1px 3px 1px rgba(0, 0, 0, 0.15);\n",
              "      filter: drop-shadow(0px 1px 2px rgba(0, 0, 0, 0.3));\n",
              "      fill: #FFFFFF;\n",
              "    }\n",
              "  </style>\n",
              "\n",
              "      <script>\n",
              "        const buttonEl =\n",
              "          document.querySelector('#df-06d8b6d0-937f-4281-a65a-30b13cb1452d button.colab-df-convert');\n",
              "        buttonEl.style.display =\n",
              "          google.colab.kernel.accessAllowed ? 'block' : 'none';\n",
              "\n",
              "        async function convertToInteractive(key) {\n",
              "          const element = document.querySelector('#df-06d8b6d0-937f-4281-a65a-30b13cb1452d');\n",
              "          const dataTable =\n",
              "            await google.colab.kernel.invokeFunction('convertToInteractive',\n",
              "                                                     [key], {});\n",
              "          if (!dataTable) return;\n",
              "\n",
              "          const docLinkHtml = 'Like what you see? Visit the ' +\n",
              "            '<a target=\"_blank\" href=https://colab.research.google.com/notebooks/data_table.ipynb>data table notebook</a>'\n",
              "            + ' to learn more about interactive tables.';\n",
              "          element.innerHTML = '';\n",
              "          dataTable['output_type'] = 'display_data';\n",
              "          await google.colab.output.renderOutput(dataTable, element);\n",
              "          const docLink = document.createElement('div');\n",
              "          docLink.innerHTML = docLinkHtml;\n",
              "          element.appendChild(docLink);\n",
              "        }\n",
              "      </script>\n",
              "    </div>\n",
              "  </div>\n",
              "  "
            ],
            "text/plain": [
              "          SalePrice\n",
              "Id                 \n",
              "1461  129321.311918\n",
              "1462  161367.657161\n",
              "1463  186574.536259\n",
              "1464  195196.870882\n",
              "1465  188077.222141"
            ]
          },
          "metadata": {},
          "execution_count": 48
        }
      ]
    },
    {
      "cell_type": "code",
      "metadata": {
        "id": "OIzuQSwpgF5z"
      },
      "source": [
        "# note: appearently the result is pretty bad compared to previous submissions\n",
        "submission.to_csv(\"lgbm_cv_22-07-11.csv\")"
      ],
      "execution_count": 49,
      "outputs": []
    }
  ]
}